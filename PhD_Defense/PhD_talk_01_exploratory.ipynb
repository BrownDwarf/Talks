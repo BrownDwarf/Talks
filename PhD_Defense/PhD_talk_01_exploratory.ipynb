{
 "cells": [
  {
   "cell_type": "code",
   "execution_count": null,
   "metadata": {
    "collapsed": false,
    "slideshow": {
     "slide_type": "slide"
    }
   },
   "outputs": [],
   "source": [
    "%%html\n",
    "<script type=\"text/javascript\">\n",
    "     show=true;\n",
    "     function toggle(){\n",
    "         if (show){$('div.input').hide();}else{$('div.input').show();}\n",
    "            show = !show}\n",
    " </script>\n",
    " <h2><a href=\"javascript:toggle()\" target=\"_self\">Click to toggle code input</a></h2>"
   ]
  },
  {
   "cell_type": "code",
   "execution_count": null,
   "metadata": {
    "collapsed": false,
    "slideshow": {
     "slide_type": "slide"
    }
   },
   "outputs": [],
   "source": [
    "import os\n",
    "print os.environ['BAADE']\n",
    "BAADE = os.environ['BAADE']+'/'\n",
    "from IPython.display import Image"
   ]
  },
  {
   "cell_type": "markdown",
   "metadata": {
    "slideshow": {
     "slide_type": "slide"
    }
   },
   "source": [
    "#The Substellar Population of the Ophiuchus Star- Forming Region\n",
    "##Michael Gully-Santiago\n",
    "###PhD Dissertation Talk\n",
    "####April 29, 2015"
   ]
  },
  {
   "cell_type": "markdown",
   "metadata": {},
   "source": [
    "<img src=\"img/OPH_349_I_image.png\" alt=\"Suni\" style=\"float:right;margin:0 5px 0 0;\" width=\"400\" height=\"400\"/> "
   ]
  },
  {
   "cell_type": "markdown",
   "metadata": {
    "slideshow": {
     "slide_type": "slide"
    }
   },
   "source": [
    "#Outline\n",
    "\n",
    "###Things I won't talk about\n",
    "- MIT Nanoruler, VPH gratings, Gratings for Earth Science Satellites, outreach activities"
   ]
  },
  {
   "cell_type": "markdown",
   "metadata": {
    "slideshow": {
     "slide_type": "fragment"
    }
   },
   "source": [
    "###Things I will mention\n",
    "- JWST Grisms\n",
    "- IGRINS Immersion Grating\n",
    "- e-beam Lithography"
   ]
  },
  {
   "cell_type": "markdown",
   "metadata": {
    "slideshow": {
     "slide_type": "fragment"
    }
   },
   "source": [
    "###Main topics\n",
    "- Bonded Silicon diffractive optics with near-IR spectroscopy\n",
    "- Multiobject spectroscopy of young brown dwarfs towards Ophiuchus"
   ]
  },
  {
   "cell_type": "markdown",
   "metadata": {
    "slideshow": {
     "slide_type": "slide"
    }
   },
   "source": [
    "# JWST Grisms\n",
    "<img src=\"smiley.gif\" alt=\"Suni\" style=\"float:right;margin:0 5px 0 0;\" width=\"100\" height=\"100\"/> "
   ]
  },
  {
   "cell_type": "markdown",
   "metadata": {
    "slideshow": {
     "slide_type": "slide"
    }
   },
   "source": [
    "# IGRINS Immersion grating\n",
    "<img src=\"smiley.gif\" alt=\"Suni\" style=\"float:right;margin:0 5px 0 0;\" width=\"100\" height=\"100\"/> "
   ]
  },
  {
   "cell_type": "markdown",
   "metadata": {
    "slideshow": {
     "slide_type": "slide"
    }
   },
   "source": [
    "# ebeam lithography\n",
    "<img src=\"smiley.gif\" alt=\"Suni\" style=\"float:right;margin:0 5px 0 0;\" width=\"100\" height=\"100\"/> "
   ]
  },
  {
   "cell_type": "markdown",
   "metadata": {
    "slideshow": {
     "slide_type": "slide"
    }
   },
   "source": [
    "# Si Gaps\n",
    "<img src=\"smiley.gif\" alt=\"Suni\" style=\"float:right;margin:0 5px 0 0;\" width=\"100\" height=\"100\"/> "
   ]
  },
  {
   "cell_type": "markdown",
   "metadata": {
    "slideshow": {
     "slide_type": "slide"
    }
   },
   "source": [
    "# Ophiuchus\n",
    "<img src=\"smiley.gif\" alt=\"Suni\" style=\"float:right;margin:0 5px 0 0;\" width=\"100\" height=\"100\"/> "
   ]
  },
  {
   "cell_type": "markdown",
   "metadata": {
    "slideshow": {
     "slide_type": "slide"
    }
   },
   "source": [
    "<img src=\"img/OPH_349_I_image.png\" alt=\"Suni\" style=\"float:right;margin:0 5px 0 0;\" width=\"100\" height=\"100\"/> \n",
    "<img src=\"sally.gif\" alt=\"Suni\" style=\"float:left;margin:0px 100px 0px 0;\" width=\"100\" height=\"100\"/> "
   ]
  }
 ],
 "metadata": {
  "celltoolbar": "Slideshow",
  "kernelspec": {
   "display_name": "Python 2",
   "language": "python",
   "name": "python2"
  },
  "language_info": {
   "codemirror_mode": {
    "name": "ipython",
    "version": 2
   },
   "file_extension": ".py",
   "mimetype": "text/x-python",
   "name": "python",
   "nbconvert_exporter": "python",
   "pygments_lexer": "ipython2",
   "version": "2.7.9"
  }
 },
 "nbformat": 4,
 "nbformat_minor": 0
}
