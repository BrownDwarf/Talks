{
 "metadata": {
  "celltoolbar": "Slideshow",
  "name": "",
  "signature": "sha256:0ab98796f63e17b8a499c218aacab468812d1be3d92448ecc97d2f24fd926170"
 },
 "nbformat": 3,
 "nbformat_minor": 0,
 "worksheets": [
  {
   "cells": [
    {
     "cell_type": "code",
     "collapsed": false,
     "input": [
      "%%html\n",
      "<script type=\"text/javascript\">\n",
      "     show=true;\n",
      "     function toggle(){\n",
      "         if (show){$('div.input').hide();}else{$('div.input').show();}\n",
      "            show = !show}\n",
      " </script>\n",
      " <h2><a href=\"javascript:toggle()\" target=\"_self\">Click to toggle code input</a></h2>"
     ],
     "language": "python",
     "metadata": {
      "slideshow": {
       "slide_type": "slide"
      }
     },
     "outputs": [
      {
       "html": [
        "<script type=\"text/javascript\">\n",
        "     show=true;\n",
        "     function toggle(){\n",
        "         if (show){$('div.input').hide();}else{$('div.input').show();}\n",
        "            show = !show}\n",
        " </script>\n",
        " <h2><a href=\"javascript:toggle()\" target=\"_self\">Click to toggle code input</a></h2>"
       ],
       "metadata": {},
       "output_type": "display_data",
       "text": [
        "<IPython.core.display.HTML at 0x103598790>"
       ]
      }
     ],
     "prompt_number": 1
    },
    {
     "cell_type": "markdown",
     "metadata": {
      "slideshow": {
       "slide_type": "slide"
      }
     },
     "source": [
      "# Young Brown Dwarfs in $\\rho$ Ophiuchus\n",
      "## Michael Gully-Santiago\n",
      "### Friday, November 21, 2014"
     ]
    },
    {
     "cell_type": "markdown",
     "metadata": {
      "slideshow": {
       "slide_type": "slide"
      }
     },
     "source": [
      "Outline\n",
      "------\n",
      "\n",
      "+ Background on brown dwarfs and star formation"
     ]
    },
    {
     "cell_type": "markdown",
     "metadata": {
      "slideshow": {
       "slide_type": "fragment"
      }
     },
     "source": [
      "+ Goal of our program"
     ]
    },
    {
     "cell_type": "markdown",
     "metadata": {
      "slideshow": {
       "slide_type": "fragment"
      }
     },
     "source": [
      "+ Sample selection"
     ]
    },
    {
     "cell_type": "markdown",
     "metadata": {
      "slideshow": {
       "slide_type": "fragment"
      }
     },
     "source": [
      "+ Magellan and FIRE spectroscopy"
     ]
    },
    {
     "cell_type": "code",
     "collapsed": false,
     "input": [
      "from IPython.display import display\n",
      "from IPython.display import Image\n",
      "from IPython.display import HTML\n",
      "Gl229B_image = Image(url='http://upload.wikimedia.org/wikipedia/commons/7/78/Brown_Dwarf_Gliese_229B.jpg',\n",
      "                     width=600)\n",
      "h = HTML('<h2>Brown dwarfs were discovered 20 years ago</h2>')"
     ],
     "language": "python",
     "metadata": {
      "slideshow": {
       "slide_type": "skip"
      }
     },
     "outputs": [],
     "prompt_number": 2
    },
    {
     "cell_type": "code",
     "collapsed": false,
     "input": [
      "display(h)\n",
      "display(Gl229B_image)"
     ],
     "language": "python",
     "metadata": {
      "slideshow": {
       "slide_type": "slide"
      }
     },
     "outputs": [
      {
       "html": [
        "<h2>Brown dwarfs were discovered 20 years ago</h2>"
       ],
       "metadata": {},
       "output_type": "display_data",
       "text": [
        "<IPython.core.display.HTML at 0x103598e50>"
       ]
      },
      {
       "html": [
        "<img src=\"http://upload.wikimedia.org/wikipedia/commons/7/78/Brown_Dwarf_Gliese_229B.jpg\" width=\"600\"/>"
       ],
       "metadata": {},
       "output_type": "display_data",
       "text": [
        "<IPython.core.display.Image at 0x103598e10>"
       ]
      }
     ],
     "prompt_number": 3
    },
    {
     "cell_type": "markdown",
     "metadata": {
      "slideshow": {
       "slide_type": "slide"
      }
     },
     "source": [
      "## In the last 20 years, ~1767 brown dwarfs have been discovered\n",
      "\n",
      "<blockquote class=\"twitter-tweet\" lang=\"en\"><p>An up-to-date list of all currently known 1,767 brown dwarfs ! <a href=\"http://t.co/VQJY6PVuQf\">http://t.co/VQJY6PVuQf</a></p>&mdash; Jonathan Gagn\u00e9 (@percolato) <a href=\"https://twitter.com/percolato/status/510342486519476224\">September 12, 2014</a></blockquote>\n",
      "<script async src=\"//platform.twitter.com/widgets.js\" charset=\"utf-8\"></script>"
     ]
    },
    {
     "cell_type": "markdown",
     "metadata": {
      "slideshow": {
       "slide_type": "slide"
      }
     },
     "source": [
      "## Key properties of brown dwarfs\n",
      "<p class=\"fragment grow\">\n",
      "Brown dwarfs are low mass <br> $-1.9 \\lesssim \\log{\\frac{M}{M_{\\odot}}} \\lesssim  -1.1 $ \n",
      "</p>\n",
      "\n",
      "<p class=\"fragment grow\">\n",
      "They span a wide range in luminosity <br> $-7 \\lesssim \\log{\\frac{L}{L_{\\odot}}} \\lesssim -1 $\n",
      "</p>\n",
      "\n",
      "<p class=\"fragment grow\">\n",
      "Brown dwarfs are monotonically cooling$^\\dagger$, $\\frac{dT}{dt} < 0$\n",
      "\n",
      "</p>\n",
      "\n",
      "<p class=\"fragment grow\">\n",
      "Brown dwarfs are monotonically shrinking, $\\frac{dR}{dt} < 0$\n",
      "</p>\n",
      "\n",
      "<p class=\"fragment grow\">\n",
      "Therefore, from Stefan-Boltzmann law, $\\frac{dL}{dt} < 0$\n",
      "</p>\n",
      "\n",
      "<p class=\"fragment grow\">\n",
      "Brown dwarfs are not black bodies- molecules exist in their atmospheres.\n",
      "</p>"
     ]
    },
    {
     "cell_type": "code",
     "collapsed": false,
     "input": [
      "from wand.image import Image as WImage"
     ],
     "language": "python",
     "metadata": {},
     "outputs": [
      {
       "ename": "ImportError",
       "evalue": "MagickWand shared library not found.\nYou probably had not installed ImageMagick library.\nTry to install:\n  brew install freetype imagemagick",
       "output_type": "pyerr",
       "traceback": [
        "\u001b[0;31m---------------------------------------------------------------------------\u001b[0m\n\u001b[0;31mImportError\u001b[0m                               Traceback (most recent call last)",
        "\u001b[0;32m<ipython-input-2-65469f53a028>\u001b[0m in \u001b[0;36m<module>\u001b[0;34m()\u001b[0m\n\u001b[0;32m----> 1\u001b[0;31m \u001b[0;32mfrom\u001b[0m \u001b[0mwand\u001b[0m\u001b[0;34m.\u001b[0m\u001b[0mimage\u001b[0m \u001b[0;32mimport\u001b[0m \u001b[0mImage\u001b[0m \u001b[0;32mas\u001b[0m \u001b[0mWImage\u001b[0m\u001b[0;34m\u001b[0m\u001b[0m\n\u001b[0m",
        "\u001b[0;32m/Users/gully/anaconda/lib/python2.7/site-packages/wand/image.py\u001b[0m in \u001b[0;36m<module>\u001b[0;34m()\u001b[0m\n\u001b[1;32m     18\u001b[0m \u001b[0;34m\u001b[0m\u001b[0m\n\u001b[1;32m     19\u001b[0m \u001b[0;32mfrom\u001b[0m \u001b[0;34m.\u001b[0m \u001b[0;32mimport\u001b[0m \u001b[0mcompat\u001b[0m\u001b[0;34m\u001b[0m\u001b[0m\n\u001b[0;32m---> 20\u001b[0;31m \u001b[0;32mfrom\u001b[0m \u001b[0;34m.\u001b[0m\u001b[0mapi\u001b[0m \u001b[0;32mimport\u001b[0m \u001b[0mMagickPixelPacket\u001b[0m\u001b[0;34m,\u001b[0m \u001b[0mlibc\u001b[0m\u001b[0;34m,\u001b[0m \u001b[0mlibmagick\u001b[0m\u001b[0;34m,\u001b[0m \u001b[0mlibrary\u001b[0m\u001b[0;34m\u001b[0m\u001b[0m\n\u001b[0m\u001b[1;32m     21\u001b[0m \u001b[0;32mfrom\u001b[0m \u001b[0;34m.\u001b[0m\u001b[0mcolor\u001b[0m \u001b[0;32mimport\u001b[0m \u001b[0mColor\u001b[0m\u001b[0;34m\u001b[0m\u001b[0m\n\u001b[1;32m     22\u001b[0m from .compat import (binary, binary_type, encode_filename, file_types,\n",
        "\u001b[0;32m/Users/gully/anaconda/lib/python2.7/site-packages/wand/api.pyc\u001b[0m in \u001b[0;36m<module>\u001b[0;34m()\u001b[0m\n\u001b[1;32m    161\u001b[0m     raise ImportError('MagickWand shared library not found.\\n'\n\u001b[1;32m    162\u001b[0m                       \u001b[0;34m'You probably had not installed ImageMagick library.\\n'\u001b[0m\u001b[0;34m\u001b[0m\u001b[0m\n\u001b[0;32m--> 163\u001b[0;31m                       'Try to install:\\n  ' + msg)\n\u001b[0m\u001b[1;32m    164\u001b[0m \u001b[0;34m\u001b[0m\u001b[0m\n\u001b[1;32m    165\u001b[0m \u001b[0;31m#: (:class:`ctypes.CDLL`) The MagickWand library.\u001b[0m\u001b[0;34m\u001b[0m\u001b[0;34m\u001b[0m\u001b[0m\n",
        "\u001b[0;31mImportError\u001b[0m: MagickWand shared library not found.\nYou probably had not installed ImageMagick library.\nTry to install:\n  brew install freetype imagemagick"
       ]
      }
     ],
     "prompt_number": 2
    },
    {
     "cell_type": "code",
     "collapsed": false,
     "input": [
      "burrows_title = HTML('<h3>Brown dwarfs are monotonically decreasing luminosity</h3>')\n",
      "burrows_T = HTML('<iframe src=http://irtfweb.ifa.hawaii.edu/~cushing/downloads/Burrows97_Lbol.pdf width=800 height = 600></iframe>')\n",
      "img = WImage(filename='hat.pdf')\n",
      "img"
     ],
     "language": "python",
     "metadata": {
      "slideshow": {
       "slide_type": "skip"
      }
     },
     "outputs": []
    },
    {
     "cell_type": "code",
     "collapsed": false,
     "input": [
      "display(burrows_title)\n",
      "display(burrows_T)"
     ],
     "language": "python",
     "metadata": {
      "slideshow": {
       "slide_type": "slide"
      }
     },
     "outputs": []
    },
    {
     "cell_type": "markdown",
     "metadata": {
      "slideshow": {
       "slide_type": "subslide"
      }
     },
     "source": [
      "### Since they only get fainter in time, brown dwarfs are most luminous at young ages.\n",
      "\n",
      "Young brown dwarfs can be seen at larger distances than old brown dwarfs."
     ]
    },
    {
     "cell_type": "markdown",
     "metadata": {
      "slideshow": {
       "slide_type": "slide"
      }
     },
     "source": [
      "# The end."
     ]
    }
   ],
   "metadata": {}
  }
 ]
}