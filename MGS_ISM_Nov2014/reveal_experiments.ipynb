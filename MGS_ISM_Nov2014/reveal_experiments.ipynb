{
 "metadata": {
  "celltoolbar": "Slideshow",
  "name": "",
  "signature": "sha256:db2e6fe877bccf5352f28963bff3e8ad0678503e160c1d855306e779530b2fa8"
 },
 "nbformat": 3,
 "nbformat_minor": 0,
 "worksheets": [
  {
   "cells": [
    {
     "cell_type": "code",
     "collapsed": false,
     "input": [
      "%%html\n",
      "<script type=\"text/javascript\">\n",
      "     show=true;\n",
      "     function toggle(){\n",
      "         if (show){$('div.input').hide();}else{$('div.input').show();}\n",
      "            show = !show}\n",
      " </script>\n",
      " <h2><a href=\"javascript:toggle()\" target=\"_self\">Click to toggle code input</a></h2>"
     ],
     "language": "python",
     "metadata": {
      "slideshow": {
       "slide_type": "slide"
      }
     },
     "outputs": [
      {
       "html": [
        "<script type=\"text/javascript\">\n",
        "     show=true;\n",
        "     function toggle(){\n",
        "         if (show){$('div.input').hide();}else{$('div.input').show();}\n",
        "            show = !show}\n",
        " </script>\n",
        " <h2><a href=\"javascript:toggle()\" target=\"_self\">Click to toggle code input</a></h2>"
       ],
       "metadata": {},
       "output_type": "display_data",
       "text": [
        "<IPython.core.display.HTML at 0x1027c3190>"
       ]
      }
     ],
     "prompt_number": 1
    },
    {
     "cell_type": "markdown",
     "metadata": {
      "slideshow": {
       "slide_type": "slide"
      }
     },
     "source": [
      "# Young Brown Dwarfs in $\\rho$ Ophiuchus\n",
      "## Michael Gully-Santiago\n",
      "### Friday, November 21, 2014"
     ]
    },
    {
     "cell_type": "markdown",
     "metadata": {
      "slideshow": {
       "slide_type": "slide"
      }
     },
     "source": [
      "We want to understand how star and planet formation works across the entire mass/energy spectrum.\n",
      "\n",
      "Brown dwarfs offer a laboratory for studying protoplanetary disks behavior at low mass/energy."
     ]
    },
    {
     "cell_type": "markdown",
     "metadata": {
      "slideshow": {
       "slide_type": "slide"
      }
     },
     "source": [
      "# Brown dwarf physics"
     ]
    },
    {
     "cell_type": "code",
     "collapsed": false,
     "input": [
      "from IPython.display import display\n",
      "from IPython.display import Image\n",
      "from IPython.display import HTML"
     ],
     "language": "python",
     "metadata": {
      "slideshow": {
       "slide_type": "skip"
      }
     },
     "outputs": [],
     "prompt_number": 58
    },
    {
     "cell_type": "markdown",
     "metadata": {
      "slideshow": {
       "slide_type": "slide"
      }
     },
     "source": [
      "### Brown dwarfs were discovered 20 years ago\n",
      "<img src=\"http://upload.wikimedia.org/wikipedia/commons/7/78/Brown_Dwarf_Gliese_229B.jpg\" width=550>"
     ]
    },
    {
     "cell_type": "markdown",
     "metadata": {
      "slideshow": {
       "slide_type": "slide"
      }
     },
     "source": [
      "## In the last 20 years, ~1767 brown dwarfs have been discovered\n",
      "\n",
      "<blockquote class=\"twitter-tweet\" lang=\"en\"><p>An up-to-date list of all currently known 1,767 brown dwarfs ! <a href=\"http://t.co/VQJY6PVuQf\">http://t.co/VQJY6PVuQf</a></p>&mdash; Jonathan Gagn\u00e9 (@percolato) <a href=\"https://twitter.com/percolato/status/510342486519476224\">September 12, 2014</a></blockquote>\n",
      "<script async src=\"//platform.twitter.com/widgets.js\" charset=\"utf-8\"></script>"
     ]
    },
    {
     "cell_type": "markdown",
     "metadata": {
      "slideshow": {
       "slide_type": "slide"
      }
     },
     "source": [
      "## Key properties of brown dwarfs\n",
      "\n",
      "Brown dwarfs are low mass <br> $-1.9 \\lesssim \\log{\\frac{M}{M_{\\odot}}} \\lesssim  -1.1 $ \n",
      "\n",
      "They span a wide range in luminosity <br> $-7 \\lesssim \\log{\\frac{L}{L_{\\odot}}} \\lesssim -1 $\n",
      "\n",
      "<p class=\"fragment grow\">\n",
      "Brown dwarfs are monotonically cooling$^\\dagger$, $\\frac{dT}{dt} \\leq 0$\n",
      "</p>\n",
      "\n",
      "Brown dwarfs are monotonically shrinking, $\\frac{dR}{dt} < 0$\n",
      "\n",
      "<p class=\"fragment grow\">\n",
      "From Stefan-Boltzmann law and product rule, $\\frac{dL}{dt} < 0$\n",
      "</p>\n",
      "\n",
      "<p class=\"fragment grow\">\n",
      "Brown dwarfs are cool enough to have many molecular species exist in their atmospheres.\n",
      "</p>"
     ]
    },
    {
     "cell_type": "markdown",
     "metadata": {
      "slideshow": {
       "slide_type": "subslide"
      }
     },
     "source": [
      "### Brown dwarfs monotonically dim.\n",
      "Brown dwarfs are most luminous at young ages.\n",
      "\n",
      "Nearby young star forming regions ($t\\sim 1-10$ Myr) are the best setting for finding brown dwarfs (and sub-brown dwarfs).\n",
      "<img src='local_figs/Burrows97_Lbol.png' width=550>\n",
      "*Burrows et al. 1997*"
     ]
    },
    {
     "cell_type": "markdown",
     "metadata": {
      "slideshow": {
       "slide_type": "subslide"
      }
     },
     "source": [
      "### Brown dwarfs monotonically$^\\dagger$ cool.\n",
      "Brown dwarf spectral types change as a function of time. M -> L -> T -> Y\n",
      "<img src=\"local_figs/Burrows97_Teff.png\" width=550>\n",
      "Burrows et al. 1997"
     ]
    },
    {
     "cell_type": "markdown",
     "metadata": {
      "slideshow": {
       "slide_type": "subslide"
      }
     },
     "source": [
      "### Brown dwarf spectra exhibit abundant molecular bands\n",
      "There is an important broad water feature at 1.4 $\\mu$m\n",
      "\n",
      "<img src='local_figs/Gl229B.png' width=550>\n",
      "*Burrows et al. 1997*"
     ]
    },
    {
     "cell_type": "code",
     "collapsed": false,
     "input": [
      "<section data-background=\"http://www.nasa.gov/images/content/532867main_pia13974-full_full.jpg\">"
     ],
     "language": "python",
     "metadata": {
      "slideshow": {
       "slide_type": "skip"
      }
     },
     "outputs": []
    },
    {
     "cell_type": "markdown",
     "metadata": {
      "slideshow": {
       "slide_type": "slide"
      }
     },
     "source": [
      "# Finding young brown dwarfs is a needle-in-a-haystack problem."
     ]
    },
    {
     "cell_type": "markdown",
     "metadata": {
      "slideshow": {
       "slide_type": "slide"
      }
     },
     "source": [
      "### The ideal survey has abundant precise measurements for all sources.\n",
      "\n",
      "**Photometry**\n",
      "ugrizy, DENIS iJK, 2MASS JHK, IRAC1234, WISE1234, MIPS12, Herschel, sub-mm, etc.\n",
      "\n",
      "**Kinematic measurements**\n",
      "Parallax, proper motion, radial velocity\n",
      "\n",
      "**Monitoring**\n",
      "YSOVAR, K2, etc.\n",
      "\n",
      "**Spectroscopy**\n",
      "\n",
      "\n",
      "\n",
      "\n"
     ]
    },
    {
     "cell_type": "markdown",
     "metadata": {
      "slideshow": {
       "slide_type": "slide"
      }
     },
     "source": [
      "### The realistic survey has incomplete information.\n",
      "\n",
      "**Photometry**\n",
      "IRAC12, MIPS1\n",
      "\n",
      "~~**Kinematic measurements**~~, ~~**Monitoring**~~, ~~**Spectroscopy**~~\n",
      "\n",
      "*Young BDs in nearby star forming regions are still below the sensitivity limits of most surveys.*"
     ]
    },
    {
     "cell_type": "markdown",
     "metadata": {
      "slideshow": {
       "slide_type": "slide"
      }
     },
     "source": [
      "### We have a custom deep photometric catalog of $\\rho$ Ophiuchus.\n",
      "+ IRAC12, MIPS1 (c2d; e.g. Evans et al. 2009)\n",
      "+ IJHK (from Allers et al. 2006)\n",
      "+ Deep Spitzer IRAC34 photometry (Harvey et al. 2010, *this work*)\n",
      "<p class=\"fragment grow\">\n",
      "+ Custom 1.4 $\\mu$m \"$W$ filter\" photometry (Allers et al. in prep, *this work*)\n",
      "</p>"
     ]
    },
    {
     "cell_type": "markdown",
     "metadata": {
      "slideshow": {
       "slide_type": "subslide"
      }
     },
     "source": [
      "### The $W$ filter separates late-M types from reddened background sources.\n",
      "It's only do-able from *dry* places, like Mauna Kea or Space.\n",
      "<img src=\"local_figs/w_filter2.jpg\" width=550>\n"
     ]
    },
    {
     "cell_type": "markdown",
     "metadata": {},
     "source": [
      "# How to find ~20 sources in a 54,373 source catalog\n"
     ]
    },
    {
     "cell_type": "markdown",
     "metadata": {
      "slideshow": {
       "slide_type": "slide"
      }
     },
     "source": [
      "<img src=\"local_figs/9D_catalog_alt.png\" width=600>"
     ]
    },
    {
     "cell_type": "markdown",
     "metadata": {
      "slideshow": {
       "slide_type": "skip"
      }
     },
     "source": [
      "+ Supervised classification- we have some brown dwarfs that are labeled, and tens of thousands of others.\n",
      "+ Relies on the assumption that the labelled data are statistically similar to the unlabelled data."
     ]
    },
    {
     "cell_type": "markdown",
     "metadata": {
      "slideshow": {
       "slide_type": "slide"
      }
     },
     "source": [
      "# The end."
     ]
    }
   ],
   "metadata": {}
  }
 ]
}