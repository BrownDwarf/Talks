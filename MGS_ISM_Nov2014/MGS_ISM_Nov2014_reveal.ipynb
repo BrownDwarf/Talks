{
 "metadata": {
  "celltoolbar": "Slideshow",
  "name": "",
  "signature": "sha256:1149cf93d8fc717cb422811c9526a53acb57a3fb740e084b6d92838a3ae5b3dc"
 },
 "nbformat": 3,
 "nbformat_minor": 0,
 "worksheets": [
  {
   "cells": [
    {
     "cell_type": "code",
     "collapsed": false,
     "input": [
      "%%html\n",
      "<script type=\"text/javascript\">\n",
      "     show=true;\n",
      "     function toggle(){\n",
      "         if (show){$('div.input').hide();}else{$('div.input').show();}\n",
      "            show = !show}\n",
      " </script>\n",
      " <h2><a href=\"javascript:toggle()\" target=\"_self\">Click to toggle code input</a></h2>"
     ],
     "language": "python",
     "metadata": {
      "slideshow": {
       "slide_type": "slide"
      }
     },
     "outputs": [
      {
       "html": [
        "<script type=\"text/javascript\">\n",
        "     show=true;\n",
        "     function toggle(){\n",
        "         if (show){$('div.input').hide();}else{$('div.input').show();}\n",
        "            show = !show}\n",
        " </script>\n",
        " <h2><a href=\"javascript:toggle()\" target=\"_self\">Click to toggle code input</a></h2>"
       ],
       "metadata": {},
       "output_type": "display_data",
       "text": [
        "<IPython.core.display.HTML at 0x10f130090>"
       ]
      }
     ],
     "prompt_number": 13
    },
    {
     "cell_type": "markdown",
     "metadata": {
      "slideshow": {
       "slide_type": "slide"
      }
     },
     "source": [
      "# Young Brown Dwarfs in $\\rho$ Ophiuchus\n",
      "## Michael Gully-Santiago\n",
      "### Friday, November 21, 2014"
     ]
    },
    {
     "cell_type": "markdown",
     "metadata": {
      "slideshow": {
       "slide_type": "slide"
      }
     },
     "source": [
      "We want to understand how star and planet formation works across the entire mass/energy spectrum.\n",
      "\n",
      "Brown dwarfs offer a laboratory for studying protoplanetary disk behavior at low mass/energy."
     ]
    },
    {
     "cell_type": "code",
     "collapsed": false,
     "input": [
      "from IPython.display import display\n",
      "from IPython.display import Image\n",
      "from IPython.display import HTML"
     ],
     "language": "python",
     "metadata": {
      "slideshow": {
       "slide_type": "skip"
      }
     },
     "outputs": [],
     "prompt_number": 14
    },
    {
     "cell_type": "markdown",
     "metadata": {
      "slideshow": {
       "slide_type": "slide"
      }
     },
     "source": [
      "### Brown dwarfs were discovered 20 years ago\n",
      "<img src=\"http://upload.wikimedia.org/wikipedia/commons/7/78/Brown_Dwarf_Gliese_229B.jpg\" width=800>"
     ]
    },
    {
     "cell_type": "markdown",
     "metadata": {
      "slideshow": {
       "slide_type": "slide"
      }
     },
     "source": [
      "## In the last 20 years, ~1767 brown dwarfs have been discovered\n",
      "\n",
      "<blockquote class=\"twitter-tweet\" lang=\"en\"><p>An up-to-date list of all currently known 1,767 brown dwarfs ! <a href=\"http://t.co/VQJY6PVuQf\">http://t.co/VQJY6PVuQf</a></p>&mdash; Jonathan Gagn\u00e9 (@percolato) <a href=\"https://twitter.com/percolato/status/510342486519476224\">September 12, 2014</a></blockquote>\n",
      "<script async src=\"//platform.twitter.com/widgets.js\" charset=\"utf-8\"></script>"
     ]
    },
    {
     "cell_type": "markdown",
     "metadata": {
      "slideshow": {
       "slide_type": "slide"
      }
     },
     "source": [
      "## Key properties of brown dwarfs\n",
      "\n",
      "Brown dwarfs are low mass <br> $-1.9 \\lesssim \\log{\\frac{M}{M_{\\odot}}} \\lesssim  -1.1 $ \n",
      "\n",
      "They span a wide range in luminosity <br> $-7 \\lesssim \\log{\\frac{L}{L_{\\odot}}} \\lesssim -1 $\n",
      "\n",
      "\n",
      "Brown dwarfs are monotonically cooling$^\\dagger$, $\\frac{dT}{dt} \\leq 0$\n",
      "\n",
      "<p class=\"fragment grow\">\n",
      "Brown dwarfs are monotonically shrinking, $\\frac{dR}{dt} < 0$\n",
      "</p>\n",
      "\n",
      "<p class=\"fragment grow\">\n",
      "From Stefan-Boltzmann law and product rule, $\\frac{dL}{dt} < 0$\n",
      "</p>\n",
      "\n",
      "<p class=\"fragment grow\">\n",
      "Brown dwarfs are cool enough to have many molecular species exist in their atmospheres.\n",
      "</p>"
     ]
    },
    {
     "cell_type": "markdown",
     "metadata": {
      "slideshow": {
       "slide_type": "slide"
      }
     },
     "source": [
      "### Brown dwarfs monotonically dim.\n",
      "Brown dwarfs are most luminous at young ages.\n",
      "\n",
      "Nearby young star forming regions ($t\\sim 1-10$ Myr) are the best setting for finding brown dwarfs (and sub-brown dwarfs).\n",
      "<img src='local_figs/Burrows97_Lbol.png' width=500>\n",
      "*Burrows et al. 1997*"
     ]
    },
    {
     "cell_type": "markdown",
     "metadata": {
      "slideshow": {
       "slide_type": "slide"
      }
     },
     "source": [
      "### Brown dwarfs monotonically$^\\dagger$ cool.\n",
      "Brown dwarf spectral types change as a function of time. \n",
      "\n",
      "M -> L -> T -> Y\n",
      "<img src=\"local_figs/Burrows97_Teff.png\" width=500>\n",
      "Burrows et al. 1997"
     ]
    },
    {
     "cell_type": "markdown",
     "metadata": {
      "slideshow": {
       "slide_type": "slide"
      }
     },
     "source": [
      "### Brown dwarf spectra exhibit abundant molecular bands\n",
      "There is an important broad water feature at 1.4 $\\mu$m\n",
      "\n",
      "<img src='local_figs/Gl229B.png' width=550>\n",
      "*Burrows et al. 1997*"
     ]
    },
    {
     "cell_type": "code",
     "collapsed": false,
     "input": [
      "#<section data-background=\"http://www.nasa.gov/images/content/532867main_pia13974-full_full.jpg\">"
     ],
     "language": "python",
     "metadata": {
      "slideshow": {
       "slide_type": "skip"
      }
     },
     "outputs": [],
     "prompt_number": 15
    },
    {
     "cell_type": "markdown",
     "metadata": {
      "slideshow": {
       "slide_type": "slide"
      }
     },
     "source": [
      "# Finding young brown dwarfs is a needle-in-a-haystack problem. \n",
      "\n",
      "There are ~ 3000 other sources (galaxies, background stars, old M dwarfs, etc) for every likely young brown dwarf. (~20 sources out of 54,373)"
     ]
    },
    {
     "cell_type": "markdown",
     "metadata": {
      "slideshow": {
       "slide_type": "slide"
      }
     },
     "source": [
      "### The ideal survey has abundant precise measurements for all sources.\n",
      "\n",
      "**Photometry**\n",
      "ugrizy, DENIS iJK, 2MASS JHK, IRAC1234, WISE1234, MIPS12, Herschel, sub-mm, etc.\n",
      "\n",
      "**Kinematic measurements**\n",
      "Parallax, proper motion, radial velocity\n",
      "\n",
      "**Monitoring**\n",
      "YSOVAR, K2, etc.\n",
      "\n",
      "**Spectroscopy**\n",
      "\n",
      "\n",
      "\n",
      "\n"
     ]
    },
    {
     "cell_type": "markdown",
     "metadata": {
      "slideshow": {
       "slide_type": "slide"
      }
     },
     "source": [
      "### The realistic survey has incomplete information.\n",
      "\n",
      "**Photometry**\n",
      "IRAC12, (MIPS1)\n",
      "\n",
      "~~**Kinematic measurements**~~, ~~**Monitoring**~~, ~~**Spectroscopy**~~\n",
      "\n",
      "*Young BDs in nearby star forming regions are still below the sensitivity limits of most surveys.*"
     ]
    },
    {
     "cell_type": "markdown",
     "metadata": {
      "slideshow": {
       "slide_type": "slide"
      }
     },
     "source": [
      "### We have a custom deep photometric catalog of $\\rho$ Ophiuchus.\n",
      "+ IRAC12, MIPS1 (c2d; e.g. Evans et al. 2009)\n",
      "+ IJHK (from Allers et al. 2006)\n",
      "+ Deep Spitzer IRAC34 photometry (Harvey et al. 2010, *this work*)\n",
      "\n",
      "<p class=\"fragment grow\">\n",
      "Custom 1.4 $\\mu$m \"$W$ filter\" photometry (Allers et al. in prep, *this work*)\n",
      "</p>\n"
     ]
    },
    {
     "cell_type": "markdown",
     "metadata": {
      "slideshow": {
       "slide_type": "slide"
      }
     },
     "source": [
      "### The $W$ filter separates late-M types from reddened background sources.\n",
      "It's only do-able from *dry* places, like Mauna Kea or Space.\n",
      "<img src=\"local_figs/w_filter2.jpg\" width=550>\n",
      "*Allers et al. in prep*\n"
     ]
    },
    {
     "cell_type": "markdown",
     "metadata": {
      "slideshow": {
       "slide_type": "slide"
      }
     },
     "source": [
      "# We have 54,373 vectors in a 9 dimensional space.\n",
      "\n",
      "We want to find the 9 dimensional subspace inhabited by young brown dwarfs.\n",
      "\n",
      "In principle, Machine Learning is well-suited to solve this type of problem.  \n",
      "\n",
      "Specifically, we can train a model with known young brown dwarfs, to classify unknown brown dwarfs."
     ]
    },
    {
     "cell_type": "markdown",
     "metadata": {
      "slideshow": {
       "slide_type": "slide"
      }
     },
     "source": [
      "<img src=\"local_figs/9D_catalog_alt.png\" width=700>"
     ]
    },
    {
     "cell_type": "markdown",
     "metadata": {
      "slideshow": {
       "slide_type": "slide"
      }
     },
     "source": [
      "Example of Machine Learning applied to periodic variability in LINEAR sample of near-Earth asteroids\n",
      "\n",
      "<font size=2>Top row: clusters derived using two attributes ($g - i$ and $\\log{P}$)\n",
      "Bottom row: clusters derived using seven attributes </font>\n",
      "\n",
      "<img src=\"local_figs/fig_LINEAR_GMMBayes_1.png\" width=400>\n",
      "<font size=2>*Statistics, Data Mining, Machine Learning in Astronomy (2014)*</font>"
     ]
    },
    {
     "cell_type": "markdown",
     "metadata": {
      "slideshow": {
       "slide_type": "subslide"
      }
     },
     "source": [
      "<img src=\"http://press.princeton.edu/images/k10159.gif\">"
     ]
    },
    {
     "cell_type": "markdown",
     "metadata": {
      "slideshow": {
       "slide_type": "slide"
      }
     },
     "source": [
      "# In practice, Machine Learning does not work for my sample:\n",
      "\n",
      "1. Not enough labelled data (155 known sources/54373, only ~9 known YBDs)\n",
      "2. Labelled data is statistically different from unlabelled data\n",
      "    + Labelled data is generally higher signal-to-noise ratio\n",
      "    + Reddening\n",
      "    + Diskless vs disk-bearing\n",
      "3. Does not leverage known physics (distances, reddening, disks)\n",
      "4. No good way to leverage known measurement uncertainties\n",
      "5. ML does not handle missing data well\n",
      "6. Labelling data is expensive (requires going to the telescope)"
     ]
    },
    {
     "cell_type": "code",
     "collapsed": false,
     "input": [
      "import pandas as pd\n",
      "\n",
      "pd.read_csv(\"local_dat/detected_frac.txt\")"
     ],
     "language": "python",
     "metadata": {
      "slideshow": {
       "slide_type": "subslide"
      }
     },
     "outputs": [
      {
       "html": [
        "<div style=\"max-height:1000px;max-width:1500px;overflow:auto;\">\n",
        "<table border=\"1\" class=\"dataframe\">\n",
        "  <thead>\n",
        "    <tr style=\"text-align: right;\">\n",
        "      <th></th>\n",
        "      <th>Photometric Color</th>\n",
        "      <th> Detected Fraction</th>\n",
        "    </tr>\n",
        "  </thead>\n",
        "  <tbody>\n",
        "    <tr>\n",
        "      <th>0</th>\n",
        "      <td>         $H-K$</td>\n",
        "      <td> 0.38</td>\n",
        "    </tr>\n",
        "    <tr>\n",
        "      <th>1</th>\n",
        "      <td> $IRAC1-IRAC2$</td>\n",
        "      <td> 0.77</td>\n",
        "    </tr>\n",
        "    <tr>\n",
        "      <th>2</th>\n",
        "      <td> $IRAC2-IRAC3$</td>\n",
        "      <td> 0.66</td>\n",
        "    </tr>\n",
        "    <tr>\n",
        "      <th>3</th>\n",
        "      <td> $IRAC3-IRAC4$</td>\n",
        "      <td> 0.49</td>\n",
        "    </tr>\n",
        "    <tr>\n",
        "      <th>4</th>\n",
        "      <td> $IRAC4-MIPS1$</td>\n",
        "      <td> 0.31</td>\n",
        "    </tr>\n",
        "    <tr>\n",
        "      <th>5</th>\n",
        "      <td>         $I-J$</td>\n",
        "      <td> 0.63</td>\n",
        "    </tr>\n",
        "    <tr>\n",
        "      <th>6</th>\n",
        "      <td>         $J-H$</td>\n",
        "      <td> 1.00</td>\n",
        "    </tr>\n",
        "    <tr>\n",
        "      <th>7</th>\n",
        "      <td>     $K-IRAC1$</td>\n",
        "      <td> 0.34</td>\n",
        "    </tr>\n",
        "    <tr>\n",
        "      <th>8</th>\n",
        "      <td>           $Q$</td>\n",
        "      <td> 0.58</td>\n",
        "    </tr>\n",
        "  </tbody>\n",
        "</table>\n",
        "</div>"
       ],
       "metadata": {},
       "output_type": "pyout",
       "prompt_number": 16,
       "text": [
        "  Photometric Color   Detected Fraction\n",
        "0             $H-K$                0.38\n",
        "1     $IRAC1-IRAC2$                0.77\n",
        "2     $IRAC2-IRAC3$                0.66\n",
        "3     $IRAC3-IRAC4$                0.49\n",
        "4     $IRAC4-MIPS1$                0.31\n",
        "5             $I-J$                0.63\n",
        "6             $J-H$                1.00\n",
        "7         $K-IRAC1$                0.34\n",
        "8               $Q$                0.58"
       ]
      }
     ],
     "prompt_number": 16
    },
    {
     "cell_type": "markdown",
     "metadata": {
      "slideshow": {
       "slide_type": "slide"
      }
     },
     "source": [
      "# What we actually did for candidate selection:\n",
      "\n",
      "Four tiered binary selection methods:\n",
      "\n",
      "+ Disk bearing (yes / no)\n",
      "+ $W$- filter (yes / no)\n",
      "+ $H-[3.6]$ consistent with BD photosphere (yes / no)\n",
      "+ $I-J$ and $J-H$ consistent with reddened known BD colors (yes / no)\n",
      "\n"
     ]
    },
    {
     "cell_type": "markdown",
     "metadata": {
      "slideshow": {
       "slide_type": "slide"
      }
     },
     "source": [
      "<img src=\"local_figs/4panel_selection_IMACS.png\" width=600>"
     ]
    },
    {
     "cell_type": "markdown",
     "metadata": {
      "slideshow": {
       "slide_type": "slide"
      }
     },
     "source": [
      "<img src=\"local_figs/priority_table.png\" width=1000>"
     ]
    },
    {
     "cell_type": "markdown",
     "metadata": {
      "slideshow": {
       "slide_type": "slide"
      }
     },
     "source": [
      "<img src=\"local_figs/WISE_IMACS_field.png\" width=1000>"
     ]
    },
    {
     "cell_type": "markdown",
     "metadata": {
      "slideshow": {
       "slide_type": "slide"
      }
     },
     "source": [
      "# IMACS Multi-object spectroscopy: 530 slits, 20 hours on sky\n",
      "\n",
      "+ Magellan Baade 6.5 m telescope\n",
      "+ $\\lambda$ range: 650-900 nm\n",
      "+ $R\\sim$ 1000\n",
      "\n",
      "<img src=\"local_figs/IMACS_slit_mask_numbers.png\" width=700>\n",
      "\n"
     ]
    },
    {
     "cell_type": "markdown",
     "metadata": {
      "slideshow": {
       "slide_type": "slide"
      }
     },
     "source": [
      "# Data reduction was complicated by:\n",
      "\n",
      "1. Some mistakes we made in the first year of mask design (overlapping spectra).\n",
      "2. Quirky and inflexible facility data reduction pipeline (`Cosmos`)\n",
      "\n",
      "I wrote custom scripts to automate the entire data reduction pipeline.  This was only marginally useful- there's only so much $S/N$ you can squeeze out of your data, and customization for pathological spectral extraction has diminishing returns.  \n",
      "\n",
      "> 90% of your pipeline is for 5% of your data <br>-- A. Kraus"
     ]
    },
    {
     "cell_type": "markdown",
     "metadata": {
      "slideshow": {
       "slide_type": "slide"
      }
     },
     "source": [
      "# Spectral classification.\n",
      "\n",
      "1. Spectral type\n",
      "2. Reddening\n",
      "3. Gravity sensitive features- NaI (low grav. indicative of youth)\n",
      "4. Accretion diagnostics\n",
      "<img src=\"local_figs/OPH_672_ex_spec.png\" width=550>"
     ]
    },
    {
     "cell_type": "markdown",
     "metadata": {
      "slideshow": {
       "slide_type": "slide"
      }
     },
     "source": [
      "# Spectral types and youth indicators\n",
      "\n",
      "It makes sense that we are finding many spurious M4-M6 dwarfs- $W$ filter picks these out! Also, near peak of the IMF.\n",
      "\n",
      "<img src=\"local_figs/SpT_distribution.png\" style=\"float: left; width: 45%; margin-right: 1%; margin-bottom: 0.5em;\">\n",
      "<img src=\"local_figs/NaI_distribution.png\" style=\"float: left; width: 45%; margin-right: 1%; margin-bottom: 0.5em;\">\n",
      "<p style=\"clear: both;\">"
     ]
    },
    {
     "cell_type": "markdown",
     "metadata": {
      "slideshow": {
       "slide_type": "slide"
      }
     },
     "source": [
      "# Evidence for more evolved disks, flared disks\n",
      "<img src=\"local_figs/IMACS_disks.png\">"
     ]
    },
    {
     "cell_type": "markdown",
     "metadata": {
      "slideshow": {
       "slide_type": "slide"
      }
     },
     "source": [
      "# Laundry list of remaining questions:\n",
      "\n",
      "+ How do the properties of the sources scale with luminosity?\n",
      "+ What would we have selected (or mistakenly ranked highly) if we had dropped $W-$filter?\n",
      "+ What is the prospect for improving selection strategies in future surveys (e.g proper motion)?\n",
      "+ What can we say, if anything, about the IMF?\n",
      "+ What is going on with the flared disks?\n",
      "+ Have we found Class III analogues?\n",
      "+ Upper Sco contamination?\n",
      "+ How does accretion correlate with disk presence/absence?\n",
      "+ How many discoveries in the FIRE sample?"
     ]
    },
    {
     "cell_type": "markdown",
     "metadata": {
      "slideshow": {
       "slide_type": "slide"
      }
     },
     "source": [
      "# Conclusions\n",
      "\n",
      "1. We conducted a search for young brown dwarfs in the $\\rho$ Oph star forming region\n",
      "2. Of 54,373 sources, we discovered ~20 young brown dwarfs.\n",
      "3. Their disks are more evolved than samples selected for disks.\n",
      "4. Machine learning is not (yet at least) a good classification method for this type of problem.\n",
      "5. More to come"
     ]
    }
   ],
   "metadata": {}
  }
 ]
}